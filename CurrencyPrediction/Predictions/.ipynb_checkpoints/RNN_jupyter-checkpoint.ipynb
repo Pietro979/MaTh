{
 "cells": [
  {
   "cell_type": "code",
   "execution_count": 81,
   "metadata": {},
   "outputs": [],
   "source": [
    "import numpy as np\n",
    "import matplotlib.pyplot as plt\n",
    "import tensorflow as tf\n",
    "from tensorflow import keras"
   ]
  },
  {
   "cell_type": "code",
   "execution_count": 82,
   "metadata": {},
   "outputs": [],
   "source": [
    "def generate_time_series(batch_size, n_steps):\n",
    "     freq1, freq2, offsets1, offsets2 = np.random.rand(4, batch_size, 1)\n",
    "     time = np.linspace(0, 1, n_steps)\n",
    "     series = 0.5 * np.sin((time - offsets1) * (freq1 * 10 + 10)) # fala 1.\n",
    "     series += 0.2 * np.sin((time - offsets2) * (freq2 * 20 + 20)) # + fala 2.\n",
    "     series += 0.1 * (np.random.rand(batch_size, n_steps) - 0.5) # + szum\n",
    "\n",
    "     return series[..., np.newaxis].astype(np.float32)"
   ]
  },
  {
   "cell_type": "code",
   "execution_count": 83,
   "metadata": {},
   "outputs": [],
   "source": [
    "n_steps = 50\n",
    "series = generate_time_series(10000, n_steps + 1)\n",
    "X_train, y_train = series[:7000, :n_steps], series[:7000, -1]\n",
    "X_valid, y_valid = series[7000:9000, :n_steps], series[7000:9000, -1]\n",
    "X_test, y_test = series[9000:, :n_steps], series[9000:, -1]"
   ]
  },
  {
   "cell_type": "code",
   "execution_count": 84,
   "metadata": {},
   "outputs": [],
   "source": [
    "model = keras.models.Sequential([\n",
    " keras.layers.Flatten(input_shape=[50, 1]),\n",
    " keras.layers.Dense(1)\n",
    "])"
   ]
  },
  {
   "cell_type": "code",
   "execution_count": 85,
   "metadata": {},
   "outputs": [],
   "source": [
    "model.compile(loss=\"mean_squared_error\", optimizer=\"Adam\")"
   ]
  },
  {
   "cell_type": "code",
   "execution_count": 86,
   "metadata": {},
   "outputs": [
    {
     "name": "stdout",
     "output_type": "stream",
     "text": [
      "Epoch 1/20\n",
      "219/219 [==============================] - 1s 1ms/step - loss: 0.1394 - val_loss: 0.0623\n",
      "Epoch 2/20\n",
      "219/219 [==============================] - 0s 942us/step - loss: 0.0438 - val_loss: 0.0300\n",
      "Epoch 3/20\n",
      "219/219 [==============================] - 0s 993us/step - loss: 0.0239 - val_loss: 0.0189\n",
      "Epoch 4/20\n",
      "219/219 [==============================] - 0s 997us/step - loss: 0.0171 - val_loss: 0.0150\n",
      "Epoch 5/20\n",
      "219/219 [==============================] - 0s 979us/step - loss: 0.0144 - val_loss: 0.0129\n",
      "Epoch 6/20\n",
      "219/219 [==============================] - 0s 1000us/step - loss: 0.0127 - val_loss: 0.0114\n",
      "Epoch 7/20\n",
      "219/219 [==============================] - 0s 1ms/step - loss: 0.0113 - val_loss: 0.0102\n",
      "Epoch 8/20\n",
      "219/219 [==============================] - 0s 1ms/step - loss: 0.0100 - val_loss: 0.0091\n",
      "Epoch 9/20\n",
      "219/219 [==============================] - 0s 1ms/step - loss: 0.0090 - val_loss: 0.0083\n",
      "Epoch 10/20\n",
      "219/219 [==============================] - 0s 952us/step - loss: 0.0081 - val_loss: 0.0075\n",
      "Epoch 11/20\n",
      "219/219 [==============================] - 0s 920us/step - loss: 0.0073 - val_loss: 0.0071\n",
      "Epoch 12/20\n",
      "219/219 [==============================] - 0s 942us/step - loss: 0.0067 - val_loss: 0.0064\n",
      "Epoch 13/20\n",
      "219/219 [==============================] - 0s 929us/step - loss: 0.0062 - val_loss: 0.0060\n",
      "Epoch 14/20\n",
      "219/219 [==============================] - 0s 965us/step - loss: 0.0058 - val_loss: 0.0057\n",
      "Epoch 15/20\n",
      "219/219 [==============================] - 0s 987us/step - loss: 0.0055 - val_loss: 0.0054\n",
      "Epoch 16/20\n",
      "219/219 [==============================] - 0s 1ms/step - loss: 0.0052 - val_loss: 0.0053\n",
      "Epoch 17/20\n",
      "219/219 [==============================] - 0s 1ms/step - loss: 0.0050 - val_loss: 0.0051\n",
      "Epoch 18/20\n",
      "219/219 [==============================] - 0s 1ms/step - loss: 0.0048 - val_loss: 0.0047\n",
      "Epoch 19/20\n",
      "219/219 [==============================] - 0s 1ms/step - loss: 0.0046 - val_loss: 0.0046\n",
      "Epoch 20/20\n",
      "219/219 [==============================] - 0s 1ms/step - loss: 0.0044 - val_loss: 0.0045\n"
     ]
    }
   ],
   "source": [
    "history = model.fit(X_train, y_train, epochs=20, validation_data=(X_valid, y_valid))\n",
    "# model.save(\"moj_model_flatten\")"
   ]
  },
  {
   "cell_type": "code",
   "execution_count": 87,
   "metadata": {},
   "outputs": [
    {
     "name": "stdout",
     "output_type": "stream",
     "text": [
      "63/63 [==============================] - 0s 798us/step - loss: 0.0045\n",
      "0.0045415423810482025\n"
     ]
    }
   ],
   "source": [
    "mse_valid = model.evaluate(X_valid, y_valid)\n",
    "print(mse_valid)"
   ]
  },
  {
   "cell_type": "code",
   "execution_count": 102,
   "metadata": {},
   "outputs": [],
   "source": [
    "model_simpleRNN = keras.models.Sequential([keras.layers.SimpleRNN(1, input_shape=[None, 1])])\n",
    "model_simpleRNN.compile(loss=\"mean_squared_error\", optimizer=\"Adam\")"
   ]
  },
  {
   "cell_type": "code",
   "execution_count": 103,
   "metadata": {},
   "outputs": [
    {
     "name": "stdout",
     "output_type": "stream",
     "text": [
      "Epoch 1/20\n",
      "219/219 [==============================] - 2s 6ms/step - loss: 0.1997\n",
      "Epoch 2/20\n",
      "219/219 [==============================] - 1s 6ms/step - loss: 0.1025\n",
      "Epoch 3/20\n",
      "219/219 [==============================] - 1s 6ms/step - loss: 0.0772\n",
      "Epoch 4/20\n",
      "219/219 [==============================] - 1s 6ms/step - loss: 0.0626\n",
      "Epoch 5/20\n",
      "219/219 [==============================] - 1s 6ms/step - loss: 0.0524\n",
      "Epoch 6/20\n",
      "219/219 [==============================] - 1s 6ms/step - loss: 0.0449\n",
      "Epoch 7/20\n",
      "219/219 [==============================] - 1s 6ms/step - loss: 0.0392\n",
      "Epoch 8/20\n",
      "219/219 [==============================] - 1s 6ms/step - loss: 0.0348\n",
      "Epoch 9/20\n",
      "219/219 [==============================] - 1s 6ms/step - loss: 0.0313\n",
      "Epoch 10/20\n",
      "219/219 [==============================] - 1s 6ms/step - loss: 0.0283\n",
      "Epoch 11/20\n",
      "219/219 [==============================] - 1s 6ms/step - loss: 0.0259\n",
      "Epoch 12/20\n",
      "219/219 [==============================] - 1s 7ms/step - loss: 0.0238\n",
      "Epoch 13/20\n",
      "219/219 [==============================] - 1s 6ms/step - loss: 0.0220\n",
      "Epoch 14/20\n",
      "219/219 [==============================] - 1s 6ms/step - loss: 0.0205\n",
      "Epoch 15/20\n",
      "219/219 [==============================] - 1s 6ms/step - loss: 0.0191\n",
      "Epoch 16/20\n",
      "219/219 [==============================] - 1s 6ms/step - loss: 0.0180\n",
      "Epoch 17/20\n",
      "219/219 [==============================] - 1s 6ms/step - loss: 0.0169\n",
      "Epoch 18/20\n",
      "219/219 [==============================] - 1s 6ms/step - loss: 0.0160\n",
      "Epoch 19/20\n",
      "219/219 [==============================] - 1s 6ms/step - loss: 0.0152\n",
      "Epoch 20/20\n",
      "219/219 [==============================] - 1s 6ms/step - loss: 0.0145\n"
     ]
    }
   ],
   "source": [
    "history = model_simpleRNN.fit(X_train, y_train, epochs=20)"
   ]
  },
  {
   "cell_type": "code",
   "execution_count": 105,
   "metadata": {},
   "outputs": [
    {
     "name": "stdout",
     "output_type": "stream",
     "text": [
      "63/63 [==============================] - 0s 3ms/step - loss: 0.0140\n",
      "0.013976940885186195\n"
     ]
    }
   ],
   "source": [
    "y_pred = model_simpleRNN.predict(X_test)\n",
    "mse_valid = model_simpleRNN.evaluate(X_valid, y_valid)\n",
    "print(mse_valid)"
   ]
  },
  {
   "cell_type": "code",
   "execution_count": 110,
   "metadata": {},
   "outputs": [
    {
     "name": "stdout",
     "output_type": "stream",
     "text": [
      "y_pred.shape =  (1000, 1) \n",
      "X_test.shape =  (1000, 50, 1) \n",
      "y_test.shape =  (1000, 1)\n"
     ]
    }
   ],
   "source": [
    "print('y_pred.shape = ', y_pred.shape, '\\nX_test.shape = ', X_test.shape,'\\ny_test.shape = ', y_test.shape)"
   ]
  },
  {
   "cell_type": "code",
   "execution_count": 125,
   "metadata": {},
   "outputs": [
    {
     "data": {
      "image/png": "[encoded data removed]",
      "text/plain": [
       "<Figure size 432x288 with 1 Axes>"
      ]
     },
     "metadata": {
      "needs_background": "light"
     },
     "output_type": "display_data"
    }
   ],
   "source": [
    "plt.plot(X_test[0,:,0],'b')\n",
    "plt.plot(len(X_test[0,:,0]), y_pred[0], 'ro')\n",
    "plt.plot(len(X_test[0,:,0]), y_test[0], 'go')\n",
    "plt.legend(['history data', 'predicted value', 'actual data'])\n",
    "plt.grid()\n",
    "plt.show()"
   ]
  },
  {
   "cell_type": "code",
   "execution_count": null,
   "metadata": {},
   "outputs": [],
   "source": [
    "series = generate_time_series(10000, n_steps + 10)\n",
    "X_train, Y_train = series[:7000, :n_steps], series[:7000, -10:, 0]\n",
    "X_valid, Y_valid = series[7000:9000, :n_steps], series[7000:9000, -10:, 0]\n",
    "X_test, Y_test = series[9000:, :n_steps], series[9000:, -10:, 0]"
   ]
  }
 ],
 "metadata": {
  "kernelspec": {
   "display_name": "Python 3",
   "language": "python",
   "name": "python3"
  },
  "language_info": {
   "codemirror_mode": {
    "name": "ipython",
    "version": 3
   },
   "file_extension": ".py",
   "mimetype": "text/x-python",
   "name": "python",
   "nbconvert_exporter": "python",
   "pygments_lexer": "ipython3",
   "version": "3.8.5"
  }
 },
 "nbformat": 4,
 "nbformat_minor": 4
}
